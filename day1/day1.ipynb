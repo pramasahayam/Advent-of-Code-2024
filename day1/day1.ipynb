{
 "cells": [
  {
   "cell_type": "code",
   "execution_count": 15,
   "metadata": {},
   "outputs": [],
   "source": [
    "import numpy as np"
   ]
  },
  {
   "cell_type": "markdown",
   "metadata": {},
   "source": [
    "## Part 1"
   ]
  },
  {
   "cell_type": "code",
   "execution_count": 16,
   "metadata": {},
   "outputs": [],
   "source": [
    "list = np.loadtxt(\"input.txt\", dtype=np.int32)"
   ]
  },
  {
   "cell_type": "code",
   "execution_count": 17,
   "metadata": {},
   "outputs": [],
   "source": [
    "list1 = list[:, 0]\n",
    "list2 = list[:, 1]\n",
    "\n",
    "list1.sort()\n",
    "list2.sort()"
   ]
  },
  {
   "cell_type": "code",
   "execution_count": 18,
   "metadata": {},
   "outputs": [
    {
     "name": "stdout",
     "output_type": "stream",
     "text": [
      "1110981\n"
     ]
    }
   ],
   "source": [
    "print(np.sum(np.abs(list1 - list2)))"
   ]
  },
  {
   "cell_type": "markdown",
   "metadata": {},
   "source": [
    "load the input list, then split into two columns. sort the 2 columns, then take the absolute difference between the two columns, and sum."
   ]
  },
  {
   "cell_type": "markdown",
   "metadata": {},
   "source": [
    "## Part 2"
   ]
  },
  {
   "cell_type": "code",
   "execution_count": 19,
   "metadata": {},
   "outputs": [
    {
     "name": "stdout",
     "output_type": "stream",
     "text": [
      "24869388\n"
     ]
    }
   ],
   "source": [
    "sim_score = 0\n",
    "count = 0\n",
    "\n",
    "for i in list1:\n",
    "    count = 0\n",
    "    for j in list2:\n",
    "        if i == j:\n",
    "            count += 1\n",
    "        \n",
    "    sim_score += i*count\n",
    "\n",
    "print(sim_score)"
   ]
  },
  {
   "cell_type": "markdown",
   "metadata": {},
   "source": [
    "for every number in the first list, check how many times it occurs in the second list and multiply the number by the count. sum the total score for each number in the first list."
   ]
  }
 ],
 "metadata": {
  "kernelspec": {
   "display_name": "learning",
   "language": "python",
   "name": "python3"
  },
  "language_info": {
   "codemirror_mode": {
    "name": "ipython",
    "version": 3
   },
   "file_extension": ".py",
   "mimetype": "text/x-python",
   "name": "python",
   "nbconvert_exporter": "python",
   "pygments_lexer": "ipython3",
   "version": "3.12.8"
  }
 },
 "nbformat": 4,
 "nbformat_minor": 2
}
