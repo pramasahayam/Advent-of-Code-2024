{
 "cells": [
  {
   "cell_type": "code",
   "execution_count": 6,
   "metadata": {},
   "outputs": [],
   "source": [
    "import numpy as np"
   ]
  },
  {
   "cell_type": "markdown",
   "metadata": {},
   "source": [
    "## Part 1"
   ]
  },
  {
   "cell_type": "code",
   "execution_count": 7,
   "metadata": {},
   "outputs": [],
   "source": [
    "reports = []\n",
    "\n",
    "with open('input_test.txt') as file:\n",
    "    reports.append(file.readlines())\n",
    "\n",
    "reports = np.transpose(reports)"
   ]
  },
  {
   "cell_type": "code",
   "execution_count": 8,
   "metadata": {},
   "outputs": [
    {
     "name": "stdout",
     "output_type": "stream",
     "text": [
      "safe count: 2\n"
     ]
    }
   ],
   "source": [
    "safe_count = 0\n",
    "\n",
    "for report in reports[:]:\n",
    "    report_int = np.fromstring(report[0].strip(), sep=' ', dtype=np.int32)\n",
    "    trends = np.zeros(len(report_int) - 1, dtype=np.int32)\n",
    "    for level in range(len(report_int) - 1):\n",
    "        trends[level] = report_int[level+1] - report_int[level]\n",
    "        \n",
    "    # print(trends)\n",
    "    \n",
    "    if all(trends >= 1) and all(trends <= 3):\n",
    "        # print('safe\\n')\n",
    "        safe_count += 1\n",
    "    elif all(trends >= -3) and all(trends <= -1):\n",
    "        # print('safe\\n')\n",
    "        safe_count += 1\n",
    "    # else:\n",
    "        # print('unsafe\\n')\n",
    "\n",
    "print(f'safe count: {safe_count}')"
   ]
  },
  {
   "cell_type": "markdown",
   "metadata": {},
   "source": [
    "take each line of the input file and create a column vector of strings corresponding to each line. then, for each row:\n",
    "1. convert from string to np int array\n",
    "2. calculate the difference between consecutive numbers\n",
    "3. store all the differences in an array\n",
    "\n",
    "to check if the report is safe:\n",
    "- check if all trends 1<= and <=3\n",
    "- or if all trends -3<= and <=-1\n",
    "\n",
    "keep track of the total number of safe reports, and print"
   ]
  },
  {
   "cell_type": "markdown",
   "metadata": {},
   "source": [
    "## Part 2"
   ]
  },
  {
   "cell_type": "code",
   "execution_count": 9,
   "metadata": {},
   "outputs": [
    {
     "name": "stdout",
     "output_type": "stream",
     "text": [
      "[-1 -2 -2 -1]\n",
      "safe\n",
      "\n",
      "[1 5 1 1]\n",
      "unsafe\n",
      "\n",
      "[-2 -1 -4 -1]\n",
      "unsafe\n",
      "\n",
      "[ 2 -1  2  1]\n",
      "unsafe\n",
      "\n",
      "[-2 -2  0 -3]\n",
      "unsafe\n",
      "\n",
      "[2 3 1 2]\n",
      "safe\n",
      "\n",
      "safe count: 2\n"
     ]
    }
   ],
   "source": [
    "safe_count = 0\n",
    "\n",
    "for report in reports[:]:\n",
    "    report_int = np.fromstring(report[0].strip(), sep=' ', dtype=np.int32)\n",
    "    trends = np.zeros(len(report_int) - 1, dtype=np.int32)\n",
    "    for level in range(len(report_int) - 1):\n",
    "        trends[level] = report_int[level+1] - report_int[level]\n",
    "        \n",
    "    print(trends)\n",
    "    \n",
    "    if all(trends >= 1) and all(trends <= 3):\n",
    "        print('safe\\n')\n",
    "        safe_count += 1\n",
    "    elif all(trends >= -3) and all(trends <= -1):\n",
    "        print('safe\\n')\n",
    "        safe_count += 1\n",
    "    else:\n",
    "        print('unsafe\\n')\n",
    "        \n",
    "\n",
    "print(f'safe count: {safe_count}')"
   ]
  }
 ],
 "metadata": {
  "kernelspec": {
   "display_name": "learning",
   "language": "python",
   "name": "python3"
  },
  "language_info": {
   "codemirror_mode": {
    "name": "ipython",
    "version": 3
   },
   "file_extension": ".py",
   "mimetype": "text/x-python",
   "name": "python",
   "nbconvert_exporter": "python",
   "pygments_lexer": "ipython3",
   "version": "3.12.8"
  }
 },
 "nbformat": 4,
 "nbformat_minor": 2
}
